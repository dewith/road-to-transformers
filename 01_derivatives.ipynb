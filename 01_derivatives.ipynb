{
 "cells": [
  {
   "cell_type": "markdown",
   "metadata": {},
   "source": [
    "# 🎢 Solving derivatives with SymPy\n",
    "\n",
    "1. Find the derivative of the following functions with respect to x:\n",
    "    1. $f(x) = 3x^2 + 2x - 5$\n",
    "    2. $g(x) = sin(x) + cos(2x)$\n",
    "    3. $h(x) = e^{3x} - ln(x)$\n",
    "    4. $k(x) = (x^2 + 1) / (x - 1)$\n",
    "2. Find the derivative of the sigmoid function: $\\sigma(x) = 1 / (1 + e^{-x})$\n",
    "3. Find the derivative of the ReLU function: $f(x) = max(0, x)$\n",
    "4. Find the partial derivatives of the following functions with respect to x and y:\n",
    "    1. $f(x, y) = x^2y + 3xy^2$\n",
    "    2. $g(x, y) = sin(xy) - e^{x+y}$"
   ]
  },
  {
   "cell_type": "code",
   "execution_count": 29,
   "metadata": {},
   "outputs": [],
   "source": [
    "import numpy as np\n",
    "\n",
    "from sympy import symbols, diff\n",
    "from sympy import sin, cos, exp, log\n",
    "\n",
    "from IPython.display import display"
   ]
  },
  {
   "cell_type": "markdown",
   "metadata": {},
   "source": [
    "### 1. Derivatives with respect to x"
   ]
  },
  {
   "cell_type": "markdown",
   "metadata": {},
   "source": [
    "##### 1.1 $f(x) = 3x^2 + 2x - 5$"
   ]
  },
  {
   "cell_type": "code",
   "execution_count": 10,
   "metadata": {},
   "outputs": [
    {
     "data": {
      "text/latex": [
       "$\\displaystyle 3 x^{2} + 2 x - 5$"
      ],
      "text/plain": [
       "3*x**2 + 2*x - 5"
      ]
     },
     "metadata": {},
     "output_type": "display_data"
    },
    {
     "data": {
      "text/latex": [
       "$\\displaystyle 6 x + 2$"
      ],
      "text/plain": [
       "6*x + 2"
      ]
     },
     "metadata": {},
     "output_type": "display_data"
    }
   ],
   "source": [
    "# Step 1: Define the symbol x\n",
    "x = symbols(\"x\")\n",
    "\n",
    "# Step 2: Define the function f(x)\n",
    "f = 3 * x**2 + 2 * x - 5\n",
    "\n",
    "# Step 3: Find the derivative of f(x) with respect to x\n",
    "df_dx = diff(f, x)\n",
    "\n",
    "# Step 4: Print the derivative\n",
    "display(f)\n",
    "display(df_dx)"
   ]
  },
  {
   "cell_type": "markdown",
   "metadata": {},
   "source": [
    "##### 1.2 $g(x) = sin(x) + cos(2x)$"
   ]
  },
  {
   "cell_type": "code",
   "execution_count": 18,
   "metadata": {},
   "outputs": [
    {
     "data": {
      "text/latex": [
       "$\\displaystyle \\sin{\\left(x \\right)} + \\cos{\\left(2 x \\right)}$"
      ],
      "text/plain": [
       "sin(x) + cos(2*x)"
      ]
     },
     "metadata": {},
     "output_type": "display_data"
    },
    {
     "data": {
      "text/latex": [
       "$\\displaystyle - 2 \\sin{\\left(2 x \\right)} + \\cos{\\left(x \\right)}$"
      ],
      "text/plain": [
       "-2*sin(2*x) + cos(x)"
      ]
     },
     "metadata": {},
     "output_type": "display_data"
    }
   ],
   "source": [
    "# Step 1: Define the symbol x\n",
    "x = symbols(\"x\")\n",
    "\n",
    "# Step 2: Define the function g(x)\n",
    "g = sin(x) + cos(2 * x)\n",
    "\n",
    "# Step 3: Find the derivative of g(x) with respect to x\n",
    "dg_dx = diff(g, x)\n",
    "\n",
    "# Step 4: Print the derivative\n",
    "display(g)\n",
    "display(dg_dx)"
   ]
  },
  {
   "cell_type": "markdown",
   "metadata": {},
   "source": [
    "#### 1.3 $h(x) = e^{3x} - ln(x)$\n"
   ]
  },
  {
   "cell_type": "code",
   "execution_count": 19,
   "metadata": {},
   "outputs": [
    {
     "data": {
      "text/latex": [
       "$\\displaystyle e^{3 x} - \\log{\\left(x \\right)}$"
      ],
      "text/plain": [
       "exp(3*x) - log(x)"
      ]
     },
     "metadata": {},
     "output_type": "display_data"
    },
    {
     "data": {
      "text/latex": [
       "$\\displaystyle 3 e^{3 x} - \\frac{1}{x}$"
      ],
      "text/plain": [
       "3*exp(3*x) - 1/x"
      ]
     },
     "metadata": {},
     "output_type": "display_data"
    }
   ],
   "source": [
    "# Step 1: Define the symbol x\n",
    "x = symbols(\"x\")\n",
    "\n",
    "# Step 2: Define the function h(x)\n",
    "h = exp(3 * x) - log(x)\n",
    "\n",
    "# Setp 3: Find the derivative of h(x) with respect to x\n",
    "dh_dx = diff(h, x)\n",
    "\n",
    "# Step 4: Print the derivative\n",
    "display(h)\n",
    "display(dh_dx)"
   ]
  },
  {
   "cell_type": "markdown",
   "metadata": {},
   "source": [
    "#### 1.4 $k(x) = (x^2 + 1) / (x - 1)$"
   ]
  },
  {
   "cell_type": "code",
   "execution_count": 23,
   "metadata": {},
   "outputs": [
    {
     "data": {
      "text/latex": [
       "$\\displaystyle \\frac{x^{2} + 1}{x - 1}$"
      ],
      "text/plain": [
       "(x**2 + 1)/(x - 1)"
      ]
     },
     "metadata": {},
     "output_type": "display_data"
    },
    {
     "data": {
      "text/latex": [
       "$\\displaystyle \\frac{2 x}{x - 1} - \\frac{x^{2} + 1}{\\left(x - 1\\right)^{2}}$"
      ],
      "text/plain": [
       "2*x/(x - 1) - (x**2 + 1)/(x - 1)**2"
      ]
     },
     "metadata": {},
     "output_type": "display_data"
    }
   ],
   "source": [
    "# Step 1: Define the symbol x\n",
    "x = symbols(\"x\")\n",
    "\n",
    "# Step 2: Define the function k(x)\n",
    "k = (x**2 + 1) / (x - 1)\n",
    "\n",
    "# Setp 3: Find the derivative of k(x) with respect to x\n",
    "dk_dx = diff(k, x)\n",
    "\n",
    "# Step 4: Print the derivative\n",
    "display(k)\n",
    "display(dk_dx)"
   ]
  },
  {
   "cell_type": "markdown",
   "metadata": {},
   "source": [
    "### 2. Derivative of the sigmoid function\n",
    "\n",
    "#### $\\sigma(x) = 1 / (1 + e^{-x})$"
   ]
  },
  {
   "cell_type": "code",
   "execution_count": 24,
   "metadata": {},
   "outputs": [
    {
     "data": {
      "text/latex": [
       "$\\displaystyle \\frac{1}{1 + e^{- x}}$"
      ],
      "text/plain": [
       "1/(1 + exp(-x))"
      ]
     },
     "metadata": {},
     "output_type": "display_data"
    },
    {
     "data": {
      "text/latex": [
       "$\\displaystyle \\frac{e^{- x}}{\\left(1 + e^{- x}\\right)^{2}}$"
      ],
      "text/plain": [
       "exp(-x)/(1 + exp(-x))**2"
      ]
     },
     "metadata": {},
     "output_type": "display_data"
    }
   ],
   "source": [
    "# Step 1: Define the symbol x\n",
    "x = symbols(\"x\")\n",
    "\n",
    "# Step 2: Define the function sigmoid(x)\n",
    "s = 1 / (1 + exp(-x))\n",
    "\n",
    "# Step 3: Find the derivative of sigmoid(x) with respect to x\n",
    "ds_dx = diff(s, x)\n",
    "\n",
    "# Step 4: Print the derivative\n",
    "display(s)\n",
    "display(ds_dx)"
   ]
  },
  {
   "cell_type": "markdown",
   "metadata": {},
   "source": [
    "### 3. Derivative of the ReLU function\n",
    "\n",
    "#### $f(x) = max(0, x)$"
   ]
  },
  {
   "cell_type": "code",
   "execution_count": 36,
   "metadata": {},
   "outputs": [
    {
     "data": {
      "text/plain": [
       "array([0, 0, 1, 1])"
      ]
     },
     "execution_count": 36,
     "metadata": {},
     "output_type": "execute_result"
    }
   ],
   "source": [
    "x = np.array([-1, 0, 1, 2])\n",
    "y = np.where(x <= 0, 0, x)\n",
    "\n",
    "\n",
    "def relu_derivative(y):\n",
    "    return np.where(y > 0, 1, 0)\n",
    "\n",
    "\n",
    "dy_dx = relu_derivative(y)\n",
    "dy_dx"
   ]
  },
  {
   "cell_type": "markdown",
   "metadata": {},
   "source": [
    "### 4. Partial derivatives\n",
    "\n",
    "#### 4.1 $f(x, y) = x^2y + 3xy^2$"
   ]
  },
  {
   "cell_type": "code",
   "execution_count": 38,
   "metadata": {},
   "outputs": [
    {
     "data": {
      "text/latex": [
       "$\\displaystyle 2 x y + 3 y^{2}$"
      ],
      "text/plain": [
       "2*x*y + 3*y**2"
      ]
     },
     "metadata": {},
     "output_type": "display_data"
    },
    {
     "data": {
      "text/latex": [
       "$\\displaystyle x^{2} + 6 x y$"
      ],
      "text/plain": [
       "x**2 + 6*x*y"
      ]
     },
     "metadata": {},
     "output_type": "display_data"
    }
   ],
   "source": [
    "# Step 1: Define the symbols x and y\n",
    "x, y = symbols(\"x y\")\n",
    "\n",
    "# Step 2: Define the function f(x, y)\n",
    "f = x**2 * y + 3 * x * y**2\n",
    "\n",
    "# Step 3: Find the partial derivatives of f(x, y) with respect to x and y\n",
    "df_dx = diff(f, x)\n",
    "df_dy = diff(f, y)\n",
    "\n",
    "# Step 4: Print the partial derivatives\n",
    "display(df_dx)\n",
    "display(df_dy)"
   ]
  },
  {
   "cell_type": "markdown",
   "metadata": {},
   "source": [
    "#### 4.2 $g(x, y) = sin(xy) - e^{x+y}$"
   ]
  },
  {
   "cell_type": "code",
   "execution_count": 39,
   "metadata": {},
   "outputs": [
    {
     "data": {
      "text/latex": [
       "$\\displaystyle y \\cos{\\left(x y \\right)} - e^{x + y}$"
      ],
      "text/plain": [
       "y*cos(x*y) - exp(x + y)"
      ]
     },
     "metadata": {},
     "output_type": "display_data"
    },
    {
     "data": {
      "text/latex": [
       "$\\displaystyle x \\cos{\\left(x y \\right)} - e^{x + y}$"
      ],
      "text/plain": [
       "x*cos(x*y) - exp(x + y)"
      ]
     },
     "metadata": {},
     "output_type": "display_data"
    }
   ],
   "source": [
    "# Step 1: Define the symbols x and y\n",
    "x, y = symbols(\"x y\")\n",
    "\n",
    "# Step 2: Define the function g(x, y)\n",
    "g = sin(x * y) - exp(x + y)\n",
    "\n",
    "# Step 3: Find the partial derivatives of g(x, y) with respect to x and y\n",
    "dg_dx = diff(g, x)\n",
    "dg_dy = diff(g, y)\n",
    "\n",
    "# Step 4: Print the partial derivatives\n",
    "display(dg_dx)\n",
    "display(dg_dy)"
   ]
  }
 ],
 "metadata": {
  "kernelspec": {
   "display_name": ".env",
   "language": "python",
   "name": "python3"
  },
  "language_info": {
   "codemirror_mode": {
    "name": "ipython",
    "version": 3
   },
   "file_extension": ".py",
   "mimetype": "text/x-python",
   "name": "python",
   "nbconvert_exporter": "python",
   "pygments_lexer": "ipython3",
   "version": "3.11.5"
  }
 },
 "nbformat": 4,
 "nbformat_minor": 2
}
